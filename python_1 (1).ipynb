{
  "nbformat": 4,
  "nbformat_minor": 0,
  "metadata": {
    "colab": {
      "provenance": []
    },
    "kernelspec": {
      "name": "python3",
      "display_name": "Python 3"
    },
    "language_info": {
      "name": "python"
    }
  },
  "cells": [
    {
      "cell_type": "markdown",
      "source": [
        "**Buenos dias** estoy aprendiendo python, pero a esta hora es super duro."
      ],
      "metadata": {
        "id": "HbEYaOtNlhSg"
      }
    },
    {
      "cell_type": "code",
      "execution_count": null,
      "metadata": {
        "id": "pmC8SH_UjQRP",
        "colab": {
          "base_uri": "https://localhost:8080/"
        },
        "outputId": "68be3adc-0166-4d46-a586-1af0d7f20e10"
      },
      "outputs": [
        {
          "output_type": "stream",
          "name": "stdout",
          "text": [
            "Diosito no me abandones quiero ser millonario\n"
          ]
        }
      ],
      "source": [
        "#Esto es verdad, si quiero ser millonario\n",
        "print(\"Diosito no me abandones quiero ser millonario\")"
      ]
    },
    {
      "cell_type": "code",
      "source": [
        "#Este soy yo\n",
        "print(\"Hola soy Duvan Hernandez, tengo 27 años, me gusta el futbol, vivo en sancristobal norte y tengo 1 hijo\")"
      ],
      "metadata": {
        "colab": {
          "base_uri": "https://localhost:8080/"
        },
        "id": "gvZmgzD3mmao",
        "outputId": "3ce39192-6a3f-4df3-8320-d2e2b6b6fb49"
      },
      "execution_count": null,
      "outputs": [
        {
          "output_type": "stream",
          "name": "stdout",
          "text": [
            "Hola soy Duvan Hernandez, tengo 27 años, me gusta el futbol, vivo en sancristobal norte y tengo 1 hijo\n"
          ]
        }
      ]
    },
    {
      "cell_type": "code",
      "source": [
        "\"sali con tu mujer ¿qué?\""
      ],
      "metadata": {
        "colab": {
          "base_uri": "https://localhost:8080/",
          "height": 35
        },
        "id": "rvimyv75nSYn",
        "outputId": "5f32877a-a8ac-4fcb-b7fe-73c75c5312d2"
      },
      "execution_count": null,
      "outputs": [
        {
          "output_type": "execute_result",
          "data": {
            "text/plain": [
              "'sali con tu mujer ¿qué?'"
            ],
            "application/vnd.google.colaboratory.intrinsic+json": {
              "type": "string"
            }
          },
          "metadata": {},
          "execution_count": 143
        }
      ]
    },
    {
      "cell_type": "markdown",
      "source": [
        "**TIPOS DE DATOS**"
      ],
      "metadata": {
        "id": "ykWLNDeZn1Ud"
      }
    },
    {
      "cell_type": "code",
      "source": [
        "#Tipo de dato enter, en ingles es integer y la abreviatura para python es int\n",
        "type(27)"
      ],
      "metadata": {
        "colab": {
          "base_uri": "https://localhost:8080/"
        },
        "id": "9n-NYabknvmp",
        "outputId": "9960c6d9-cc7a-4f40-c20b-342e082a02e9"
      },
      "execution_count": null,
      "outputs": [
        {
          "output_type": "execute_result",
          "data": {
            "text/plain": [
              "int"
            ]
          },
          "metadata": {},
          "execution_count": 144
        }
      ]
    },
    {
      "cell_type": "code",
      "source": [
        "from typing_extensions import Type\n",
        "#Tipo de dato flotante que en español lo conocemos como decimal\n",
        "type(9.8)"
      ],
      "metadata": {
        "colab": {
          "base_uri": "https://localhost:8080/"
        },
        "id": "6pLmv0QMoyiJ",
        "outputId": "ab9f84ea-8fd5-4e9b-9f09-f98554cc0bf6"
      },
      "execution_count": null,
      "outputs": [
        {
          "output_type": "execute_result",
          "data": {
            "text/plain": [
              "float"
            ]
          },
          "metadata": {},
          "execution_count": 145
        }
      ]
    },
    {
      "cell_type": "code",
      "source": [
        "#Boleanos, son tipos de datos que solo pueden tener 2 valores el True(verdadero) o False (falso), su abreviatura es bool\n",
        "type(True)"
      ],
      "metadata": {
        "colab": {
          "base_uri": "https://localhost:8080/"
        },
        "id": "xp5YNfGqpKF4",
        "outputId": "1a490190-2e0d-4155-ac08-c08addaaee14"
      },
      "execution_count": null,
      "outputs": [
        {
          "output_type": "execute_result",
          "data": {
            "text/plain": [
              "bool"
            ]
          },
          "metadata": {},
          "execution_count": 146
        }
      ]
    },
    {
      "cell_type": "code",
      "source": [
        "#Tipos de daros cadena, en ingles strings, siempre deben tener comillas, su abreviatura es str\n",
        "type(\"en un lugar de la mancha, de cuyo nombre no puedo acordarme...\")"
      ],
      "metadata": {
        "colab": {
          "base_uri": "https://localhost:8080/"
        },
        "id": "nLNQKesNp6pk",
        "outputId": "4d32af87-77ac-46c5-daa6-427263775f21"
      },
      "execution_count": null,
      "outputs": [
        {
          "output_type": "execute_result",
          "data": {
            "text/plain": [
              "str"
            ]
          },
          "metadata": {},
          "execution_count": 147
        }
      ]
    },
    {
      "cell_type": "markdown",
      "source": [
        "Metodos de las cadenas, las cadenas tienen funciones pequeñas que me ayudan a formatearlas"
      ],
      "metadata": {
        "id": "Mwuvew05qdMd"
      }
    },
    {
      "cell_type": "code",
      "source": [
        "print(\"Hola estoy aprendiendo python\".upper())#este metodo me sirve para poner mayusculas\n",
        "print(\"con python PuEdO PedIr UN AumEnTo\".lower())#este metodo me sirve para poner minusculas\n",
        "print(\"el principito\".title())#Asi puedo poner cada palabra en mayusculas"
      ],
      "metadata": {
        "colab": {
          "base_uri": "https://localhost:8080/"
        },
        "id": "a7e4B2rqqkxr",
        "outputId": "6e8bf723-2129-4c30-f709-13255a114423"
      },
      "execution_count": null,
      "outputs": [
        {
          "output_type": "stream",
          "name": "stdout",
          "text": [
            "HOLA ESTOY APRENDIENDO PYTHON\n",
            "con python puedo pedir un aumento\n",
            "El Principito\n"
          ]
        }
      ]
    },
    {
      "cell_type": "code",
      "source": [
        "# para contar las letras de una cadena puedo usar el metodo count"
      ],
      "metadata": {
        "id": "OY5wFNU9q0cv"
      },
      "execution_count": null,
      "outputs": []
    },
    {
      "cell_type": "code",
      "source": [
        "print(\"El hotel del centro es el más antiguo del pueblo\".count(\"e\"))"
      ],
      "metadata": {
        "colab": {
          "base_uri": "https://localhost:8080/"
        },
        "id": "Az76Fkedrrsj",
        "outputId": "81d38c1d-7c8d-4c54-d71e-2a1a56f7458f"
      },
      "execution_count": null,
      "outputs": [
        {
          "output_type": "stream",
          "name": "stdout",
          "text": [
            "7\n"
          ]
        }
      ]
    },
    {
      "cell_type": "code",
      "source": [
        "print(\"\"\"mi edad es 27 años\n",
        "mi genero es masculino\"\"\")"
      ],
      "metadata": {
        "colab": {
          "base_uri": "https://localhost:8080/"
        },
        "id": "HglQMmA5sFsr",
        "outputId": "f4cfd887-012f-433e-b77d-3bd584362f54"
      },
      "execution_count": null,
      "outputs": [
        {
          "output_type": "stream",
          "name": "stdout",
          "text": [
            "mi edad es 27 años\n",
            "mi genero es masculino\n"
          ]
        }
      ]
    },
    {
      "cell_type": "code",
      "source": [
        "#Como Remplazar un valor dentro de una cadena utilizando replace\n",
        "print(\"Hola soy Duvan Hernandez\".replace(\"a\",\"A\"))"
      ],
      "metadata": {
        "colab": {
          "base_uri": "https://localhost:8080/"
        },
        "id": "psYzd4p7s0SC",
        "outputId": "e430b3b3-c11c-4c5f-8f64-3ff8fc730fa5"
      },
      "execution_count": null,
      "outputs": [
        {
          "output_type": "stream",
          "name": "stdout",
          "text": [
            "HolA soy DuvAn HernAndez\n"
          ]
        }
      ]
    },
    {
      "cell_type": "code",
      "source": [
        "print(\"duvan hernandez\".replace(\"d\",\"D\"))"
      ],
      "metadata": {
        "colab": {
          "base_uri": "https://localhost:8080/"
        },
        "id": "PBL7MFeotd-R",
        "outputId": "00b37484-e644-4b6e-f97a-3a4190b1cd4f"
      },
      "execution_count": null,
      "outputs": [
        {
          "output_type": "stream",
          "name": "stdout",
          "text": [
            "Duvan hernanDez\n"
          ]
        }
      ]
    },
    {
      "cell_type": "code",
      "source": [
        "print(\"duvan hernandez\".replace(\"u\",\"U\"))"
      ],
      "metadata": {
        "colab": {
          "base_uri": "https://localhost:8080/"
        },
        "id": "sYQZvh11t8F3",
        "outputId": "a93b38cf-a733-4dc5-ac86-f2651964f50a"
      },
      "execution_count": null,
      "outputs": [
        {
          "output_type": "stream",
          "name": "stdout",
          "text": [
            "dUvan hernandez\n"
          ]
        }
      ]
    },
    {
      "cell_type": "markdown",
      "source": [
        "**Varianles**\n",
        "Son espacios de memoria que nos sirven para guardar informacion particular, deben tener un nombre que nos ayude a identificar su contenido"
      ],
      "metadata": {
        "id": "KFidJC2NuGrF"
      }
    },
    {
      "cell_type": "code",
      "source": [
        "#para declarar una variable se usa nombre de la variable, el signo igual, y el valor\n",
        "#Ejemplo: edad=13\n",
        "nombre=\"Duvan felipe\"\n",
        "apellido=\"hernandez\"\n",
        "edad=27\n",
        "estado_civil=\"Casado\""
      ],
      "metadata": {
        "id": "m5T65vJpuTe0"
      },
      "execution_count": null,
      "outputs": []
    },
    {
      "cell_type": "code",
      "source": [
        "nombre"
      ],
      "metadata": {
        "colab": {
          "base_uri": "https://localhost:8080/",
          "height": 35
        },
        "id": "LmMGMEY8u3Xl",
        "outputId": "11d51cdc-3fd9-4585-e0da-70c82723405a"
      },
      "execution_count": null,
      "outputs": [
        {
          "output_type": "execute_result",
          "data": {
            "text/plain": [
              "'Duvan felipe'"
            ],
            "application/vnd.google.colaboratory.intrinsic+json": {
              "type": "string"
            }
          },
          "metadata": {},
          "execution_count": 156
        }
      ]
    },
    {
      "cell_type": "code",
      "source": [
        "apellido"
      ],
      "metadata": {
        "colab": {
          "base_uri": "https://localhost:8080/",
          "height": 35
        },
        "id": "PKjwI1l8u_56",
        "outputId": "af34e516-f6ad-493f-fd01-6ec942ef5f7e"
      },
      "execution_count": null,
      "outputs": [
        {
          "output_type": "execute_result",
          "data": {
            "text/plain": [
              "'hernandez'"
            ],
            "application/vnd.google.colaboratory.intrinsic+json": {
              "type": "string"
            }
          },
          "metadata": {},
          "execution_count": 157
        }
      ]
    },
    {
      "cell_type": "code",
      "source": [
        "edad"
      ],
      "metadata": {
        "colab": {
          "base_uri": "https://localhost:8080/"
        },
        "id": "IYxFz-_HvDVt",
        "outputId": "b4f1b10b-c579-4f43-bafb-485538f711ee"
      },
      "execution_count": null,
      "outputs": [
        {
          "output_type": "execute_result",
          "data": {
            "text/plain": [
              "27"
            ]
          },
          "metadata": {},
          "execution_count": 158
        }
      ]
    },
    {
      "cell_type": "code",
      "source": [
        "estado_civil"
      ],
      "metadata": {
        "colab": {
          "base_uri": "https://localhost:8080/",
          "height": 35
        },
        "id": "eq3rRBTtvEpv",
        "outputId": "0e81c58e-3bfc-40ff-cd5c-3799a90c90c5"
      },
      "execution_count": null,
      "outputs": [
        {
          "output_type": "execute_result",
          "data": {
            "text/plain": [
              "'Casado'"
            ],
            "application/vnd.google.colaboratory.intrinsic+json": {
              "type": "string"
            }
          },
          "metadata": {},
          "execution_count": 159
        }
      ]
    },
    {
      "cell_type": "code",
      "source": [
        "#nombre de mi hijo\n",
        "hijo_nombre=\"Juan_Felipe\"\n",
        "hijo_apellido=\"Hernandez\""
      ],
      "metadata": {
        "id": "rJDn-0favJe_"
      },
      "execution_count": null,
      "outputs": []
    },
    {
      "cell_type": "code",
      "source": [
        "hijo_apellido=\"verdades\""
      ],
      "metadata": {
        "id": "z-QeVVXgvd_U"
      },
      "execution_count": null,
      "outputs": []
    },
    {
      "cell_type": "code",
      "source": [
        "hijo_nombre"
      ],
      "metadata": {
        "colab": {
          "base_uri": "https://localhost:8080/",
          "height": 35
        },
        "id": "iDI2s0ymwKKD",
        "outputId": "ebca0434-54ad-4da3-b8e3-e5a7b81c6372"
      },
      "execution_count": null,
      "outputs": [
        {
          "output_type": "execute_result",
          "data": {
            "text/plain": [
              "'Juan_Felipe'"
            ],
            "application/vnd.google.colaboratory.intrinsic+json": {
              "type": "string"
            }
          },
          "metadata": {},
          "execution_count": 162
        }
      ]
    },
    {
      "cell_type": "code",
      "source": [
        "# Esta es una variable con uin mensaje\n",
        "mensaje_1=\"ahora que se python no me van a ganar\""
      ],
      "metadata": {
        "id": "HsKD7Bz7was-"
      },
      "execution_count": null,
      "outputs": []
    },
    {
      "cell_type": "code",
      "source": [
        "mensaje_1"
      ],
      "metadata": {
        "colab": {
          "base_uri": "https://localhost:8080/",
          "height": 35
        },
        "id": "dhVVMYO71s5k",
        "outputId": "21cff2aa-9ca3-4389-f73e-f36efd3533b0"
      },
      "execution_count": null,
      "outputs": [
        {
          "output_type": "execute_result",
          "data": {
            "text/plain": [
              "'ahora que se python no me van a ganar'"
            ],
            "application/vnd.google.colaboratory.intrinsic+json": {
              "type": "string"
            }
          },
          "metadata": {},
          "execution_count": 164
        }
      ]
    },
    {
      "cell_type": "code",
      "source": [
        "#Aca no solo guarde la veriable si no que la mostre de una vez\n",
        "mensaje_2=\"porque yo voy con toda\"\n",
        "mensaje_2"
      ],
      "metadata": {
        "colab": {
          "base_uri": "https://localhost:8080/",
          "height": 35
        },
        "id": "9h8KFegF1vlE",
        "outputId": "0145d62f-36ed-48bb-beeb-b59d91d8bf99"
      },
      "execution_count": null,
      "outputs": [
        {
          "output_type": "execute_result",
          "data": {
            "text/plain": [
              "'porque yo voy con toda'"
            ],
            "application/vnd.google.colaboratory.intrinsic+json": {
              "type": "string"
            }
          },
          "metadata": {},
          "execution_count": 165
        }
      ]
    },
    {
      "cell_type": "code",
      "source": [
        "# asi concateno en python\n",
        "mensaje_1+mensaje_2"
      ],
      "metadata": {
        "colab": {
          "base_uri": "https://localhost:8080/",
          "height": 35
        },
        "id": "n-MxVh8N2DeU",
        "outputId": "d291c33f-8467-4161-c042-850cb757eefe"
      },
      "execution_count": null,
      "outputs": [
        {
          "output_type": "execute_result",
          "data": {
            "text/plain": [
              "'ahora que se python no me van a ganarporque yo voy con toda'"
            ],
            "application/vnd.google.colaboratory.intrinsic+json": {
              "type": "string"
            }
          },
          "metadata": {},
          "execution_count": 166
        }
      ]
    },
    {
      "cell_type": "code",
      "source": [
        "#Asi declaro un espacio vacio\n",
        "espacio=\" \""
      ],
      "metadata": {
        "id": "pl2H9QXO2PUs"
      },
      "execution_count": null,
      "outputs": []
    },
    {
      "cell_type": "code",
      "source": [
        "# asci concateno las variables\n",
        "mensaje_1+espacio+mensaje_2"
      ],
      "metadata": {
        "colab": {
          "base_uri": "https://localhost:8080/",
          "height": 35
        },
        "id": "lvtYZZLS2kNb",
        "outputId": "fa96e9f0-847e-4fb5-d380-229aabb337ce"
      },
      "execution_count": null,
      "outputs": [
        {
          "output_type": "execute_result",
          "data": {
            "text/plain": [
              "'ahora que se python no me van a ganar porque yo voy con toda'"
            ],
            "application/vnd.google.colaboratory.intrinsic+json": {
              "type": "string"
            }
          },
          "metadata": {},
          "execution_count": 168
        }
      ]
    },
    {
      "cell_type": "code",
      "source": [
        "#Asi guardo la concatenacion dentro de una variable\n",
        "mensaje_completo=mensaje_1+espacio+mensaje_2\n",
        "mensaje_completo"
      ],
      "metadata": {
        "colab": {
          "base_uri": "https://localhost:8080/",
          "height": 35
        },
        "id": "-foWuZZS26Uh",
        "outputId": "1f6d88ce-186e-48ed-cb44-ffb272040224"
      },
      "execution_count": null,
      "outputs": [
        {
          "output_type": "execute_result",
          "data": {
            "text/plain": [
              "'ahora que se python no me van a ganar porque yo voy con toda'"
            ],
            "application/vnd.google.colaboratory.intrinsic+json": {
              "type": "string"
            }
          },
          "metadata": {},
          "execution_count": 169
        }
      ]
    },
    {
      "cell_type": "markdown",
      "source": [
        "Listas, son tipos de datos mutables y ordenados, son las mas usadas al trabajar con datos, al declarar una lista uso los cohorchetes cuadrados []"
      ],
      "metadata": {
        "id": "cRmCaGuY4F3k"
      }
    },
    {
      "cell_type": "code",
      "source": [
        "#Listas:las listas se definen como el siguiente ejemplo\n",
        "#datos=[\"Duvan\",\"Felipe\",\"Hernandez\",38,\"Casado\",1.84]\n",
        "paises=[\"Colombia\",\"Ecuador\",\"Mexico\",\"China\",\"Francia\",\"Paraguay\"]\n",
        "paises"
      ],
      "metadata": {
        "colab": {
          "base_uri": "https://localhost:8080/"
        },
        "id": "6jJp178T4aLg",
        "outputId": "b3eed530-db62-46de-e3e2-1bfafda28222"
      },
      "execution_count": null,
      "outputs": [
        {
          "output_type": "execute_result",
          "data": {
            "text/plain": [
              "['Colombia', 'Ecuador', 'Mexico', 'China', 'Francia', 'Paraguay']"
            ]
          },
          "metadata": {},
          "execution_count": 170
        }
      ]
    },
    {
      "cell_type": "code",
      "source": [
        "#Las listas tienen indices automaticos, que se generan cuando creo la lista, sin embargo, estos no son visibles hasta que los llamo\n",
        "paises[0]"
      ],
      "metadata": {
        "colab": {
          "base_uri": "https://localhost:8080/",
          "height": 35
        },
        "id": "lqxF71bT5FeH",
        "outputId": "0bb3eca5-87e7-4361-cacf-51220f87ed64"
      },
      "execution_count": null,
      "outputs": [
        {
          "output_type": "execute_result",
          "data": {
            "text/plain": [
              "'Colombia'"
            ],
            "application/vnd.google.colaboratory.intrinsic+json": {
              "type": "string"
            }
          },
          "metadata": {},
          "execution_count": 171
        }
      ]
    },
    {
      "cell_type": "code",
      "source": [
        "paises[-6]"
      ],
      "metadata": {
        "colab": {
          "base_uri": "https://localhost:8080/",
          "height": 35
        },
        "id": "z_WRKbZt5vKq",
        "outputId": "487bf1fd-91de-49e0-95e5-edffaca5ed42"
      },
      "execution_count": null,
      "outputs": [
        {
          "output_type": "execute_result",
          "data": {
            "text/plain": [
              "'Colombia'"
            ],
            "application/vnd.google.colaboratory.intrinsic+json": {
              "type": "string"
            }
          },
          "metadata": {},
          "execution_count": 172
        }
      ]
    },
    {
      "cell_type": "code",
      "source": [
        "paises[3]"
      ],
      "metadata": {
        "colab": {
          "base_uri": "https://localhost:8080/",
          "height": 35
        },
        "id": "nij4W3eQ50z2",
        "outputId": "7cd0f24b-70a3-4dca-9966-b5686272af75"
      },
      "execution_count": null,
      "outputs": [
        {
          "output_type": "execute_result",
          "data": {
            "text/plain": [
              "'China'"
            ],
            "application/vnd.google.colaboratory.intrinsic+json": {
              "type": "string"
            }
          },
          "metadata": {},
          "execution_count": 173
        }
      ]
    },
    {
      "cell_type": "code",
      "source": [
        "paises"
      ],
      "metadata": {
        "colab": {
          "base_uri": "https://localhost:8080/"
        },
        "id": "cuMoCKZC6LFA",
        "outputId": "1123d29f-4dc6-4eb7-fb13-9108d75b531d"
      },
      "execution_count": null,
      "outputs": [
        {
          "output_type": "execute_result",
          "data": {
            "text/plain": [
              "['Colombia', 'Ecuador', 'Mexico', 'China', 'Francia', 'Paraguay']"
            ]
          },
          "metadata": {},
          "execution_count": 174
        }
      ]
    },
    {
      "cell_type": "code",
      "source": [
        "#llamar a francia desde la derecha\n",
        "paises[-2]"
      ],
      "metadata": {
        "colab": {
          "base_uri": "https://localhost:8080/",
          "height": 35
        },
        "id": "kLphhWT86O3w",
        "outputId": "0c217605-18f8-4f11-a500-2e7caf6846bd"
      },
      "execution_count": null,
      "outputs": [
        {
          "output_type": "execute_result",
          "data": {
            "text/plain": [
              "'Francia'"
            ],
            "application/vnd.google.colaboratory.intrinsic+json": {
              "type": "string"
            }
          },
          "metadata": {},
          "execution_count": 175
        }
      ]
    },
    {
      "cell_type": "code",
      "source": [
        "#llamar a francia desde la izquierda\n",
        "paises[4]"
      ],
      "metadata": {
        "colab": {
          "base_uri": "https://localhost:8080/",
          "height": 35
        },
        "id": "OvSCj7DM6WCA",
        "outputId": "c22fe58e-7135-49f0-afdc-76fa4940eb50"
      },
      "execution_count": null,
      "outputs": [
        {
          "output_type": "execute_result",
          "data": {
            "text/plain": [
              "'Francia'"
            ],
            "application/vnd.google.colaboratory.intrinsic+json": {
              "type": "string"
            }
          },
          "metadata": {},
          "execution_count": 176
        }
      ]
    },
    {
      "cell_type": "code",
      "source": [
        "#la tecnica del slicing me permite cortar pedazos de lista y guardarlos en una variable\n",
        "#cortemos\n",
        "\n",
        "paises[1:3]"
      ],
      "metadata": {
        "colab": {
          "base_uri": "https://localhost:8080/"
        },
        "id": "1GzCLqjh6hz6",
        "outputId": "3af43669-00f8-410b-c4aa-7671929287bc"
      },
      "execution_count": null,
      "outputs": [
        {
          "output_type": "execute_result",
          "data": {
            "text/plain": [
              "['Ecuador', 'Mexico']"
            ]
          },
          "metadata": {},
          "execution_count": 177
        }
      ]
    },
    {
      "cell_type": "code",
      "source": [
        "corte_paises=paises[1:3]\n",
        "corte_paises"
      ],
      "metadata": {
        "colab": {
          "base_uri": "https://localhost:8080/"
        },
        "id": "Y9KjN7H86t_H",
        "outputId": "956d8c2d-c938-4338-bc3e-f32d8032544e"
      },
      "execution_count": null,
      "outputs": [
        {
          "output_type": "execute_result",
          "data": {
            "text/plain": [
              "['Ecuador', 'Mexico']"
            ]
          },
          "metadata": {},
          "execution_count": 178
        }
      ]
    },
    {
      "cell_type": "code",
      "source": [
        "paises"
      ],
      "metadata": {
        "colab": {
          "base_uri": "https://localhost:8080/"
        },
        "id": "Z3u5aE6R7Iih",
        "outputId": "a12405fc-6f91-4d70-94a3-78a31b4538a9"
      },
      "execution_count": null,
      "outputs": [
        {
          "output_type": "execute_result",
          "data": {
            "text/plain": [
              "['Colombia', 'Ecuador', 'Mexico', 'China', 'Francia', 'Paraguay']"
            ]
          },
          "metadata": {},
          "execution_count": 179
        }
      ]
    },
    {
      "cell_type": "code",
      "source": [
        "#toma la lista desde el uno adelante\n",
        "paises[1:]"
      ],
      "metadata": {
        "colab": {
          "base_uri": "https://localhost:8080/"
        },
        "id": "TUiDNe107Wdc",
        "outputId": "4e282d18-dcb2-424a-a33b-6586432886f0"
      },
      "execution_count": null,
      "outputs": [
        {
          "output_type": "execute_result",
          "data": {
            "text/plain": [
              "['Ecuador', 'Mexico', 'China', 'Francia', 'Paraguay']"
            ]
          },
          "metadata": {},
          "execution_count": 180
        }
      ]
    },
    {
      "cell_type": "code",
      "source": [
        "#toma del 5 hacia atras\n",
        "paises[:5]"
      ],
      "metadata": {
        "colab": {
          "base_uri": "https://localhost:8080/"
        },
        "id": "aFoPkF7_7evb",
        "outputId": "8ba0c6a0-a1ae-44aa-ee25-064ad1c8ae1f"
      },
      "execution_count": null,
      "outputs": [
        {
          "output_type": "execute_result",
          "data": {
            "text/plain": [
              "['Colombia', 'Ecuador', 'Mexico', 'China', 'Francia']"
            ]
          },
          "metadata": {},
          "execution_count": 181
        }
      ]
    },
    {
      "cell_type": "code",
      "source": [
        "#asi agrego elementos al final de una lista\n",
        "paises.append(\"RUSIA\")\n",
        "paises"
      ],
      "metadata": {
        "colab": {
          "base_uri": "https://localhost:8080/"
        },
        "id": "O6JfTr5e7msX",
        "outputId": "71ecb50d-a768-4b67-fa22-f132b3ce3c14"
      },
      "execution_count": null,
      "outputs": [
        {
          "output_type": "execute_result",
          "data": {
            "text/plain": [
              "['Colombia', 'Ecuador', 'Mexico', 'China', 'Francia', 'Paraguay', 'RUSIA']"
            ]
          },
          "metadata": {},
          "execution_count": 182
        }
      ]
    },
    {
      "cell_type": "code",
      "source": [
        "#para agregar un dato para la posicion de la lista que yo quiera uso insert\n",
        "paises.insert(0,\"Venezuela\")\n",
        "paises"
      ],
      "metadata": {
        "colab": {
          "base_uri": "https://localhost:8080/"
        },
        "id": "hIdNvyBG79YY",
        "outputId": "b5f71872-0f6c-41cd-c2ea-f5e7444a67bb"
      },
      "execution_count": null,
      "outputs": [
        {
          "output_type": "execute_result",
          "data": {
            "text/plain": [
              "['Venezuela',\n",
              " 'Colombia',\n",
              " 'Ecuador',\n",
              " 'Mexico',\n",
              " 'China',\n",
              " 'Francia',\n",
              " 'Paraguay',\n",
              " 'RUSIA']"
            ]
          },
          "metadata": {},
          "execution_count": 183
        }
      ]
    },
    {
      "cell_type": "code",
      "source": [
        "paises"
      ],
      "metadata": {
        "colab": {
          "base_uri": "https://localhost:8080/"
        },
        "id": "MXH2g-yY8Zet",
        "outputId": "2e765d17-6306-4726-e12d-b56e5ede54cf"
      },
      "execution_count": null,
      "outputs": [
        {
          "output_type": "execute_result",
          "data": {
            "text/plain": [
              "['Venezuela',\n",
              " 'Colombia',\n",
              " 'Ecuador',\n",
              " 'Mexico',\n",
              " 'China',\n",
              " 'Francia',\n",
              " 'Paraguay',\n",
              " 'RUSIA']"
            ]
          },
          "metadata": {},
          "execution_count": 184
        }
      ]
    },
    {
      "cell_type": "code",
      "source": [
        "#Tambien puedo concatenar listas\n",
        "paises_europa=[\"Italia\",\"Alemania\",\"España\",\"Portugal\",\"Polonia\"]\n",
        "paises_europa"
      ],
      "metadata": {
        "colab": {
          "base_uri": "https://localhost:8080/"
        },
        "id": "XVDkI5RR8qUz",
        "outputId": "c201747f-ccfa-48e7-8fc5-459fe310b314"
      },
      "execution_count": null,
      "outputs": [
        {
          "output_type": "execute_result",
          "data": {
            "text/plain": [
              "['Italia', 'Alemania', 'España', 'Portugal', 'Polonia']"
            ]
          },
          "metadata": {},
          "execution_count": 185
        }
      ]
    },
    {
      "cell_type": "code",
      "source": [
        "paises_completos=paises+paises_europa\n",
        "paises_completos"
      ],
      "metadata": {
        "colab": {
          "base_uri": "https://localhost:8080/"
        },
        "id": "8pKVPEyv8_HR",
        "outputId": "044bfb90-cdbb-49e9-8efe-72146da72acb"
      },
      "execution_count": null,
      "outputs": [
        {
          "output_type": "execute_result",
          "data": {
            "text/plain": [
              "['Venezuela',\n",
              " 'Colombia',\n",
              " 'Ecuador',\n",
              " 'Mexico',\n",
              " 'China',\n",
              " 'Francia',\n",
              " 'Paraguay',\n",
              " 'RUSIA',\n",
              " 'Italia',\n",
              " 'Alemania',\n",
              " 'España',\n",
              " 'Portugal',\n",
              " 'Polonia']"
            ]
          },
          "metadata": {},
          "execution_count": 186
        }
      ]
    },
    {
      "cell_type": "code",
      "source": [
        "paises_completos_listas=[paises,paises_europa]\n",
        "paises_completos_listas"
      ],
      "metadata": {
        "colab": {
          "base_uri": "https://localhost:8080/"
        },
        "id": "giJJuqr99FQs",
        "outputId": "62046ce1-1f8a-4091-e5d3-7e50cc62d461"
      },
      "execution_count": null,
      "outputs": [
        {
          "output_type": "execute_result",
          "data": {
            "text/plain": [
              "[['Venezuela',\n",
              "  'Colombia',\n",
              "  'Ecuador',\n",
              "  'Mexico',\n",
              "  'China',\n",
              "  'Francia',\n",
              "  'Paraguay',\n",
              "  'RUSIA'],\n",
              " ['Italia', 'Alemania', 'España', 'Portugal', 'Polonia']]"
            ]
          },
          "metadata": {},
          "execution_count": 187
        }
      ]
    },
    {
      "cell_type": "code",
      "source": [
        "nombre=\"duvan\"\n",
        "apellido=\"hernandez\"\n",
        "edad=27\n",
        "cedula=1020822287\n",
        "estado_civil=\"Casado\"\n",
        "estatura=1.80"
      ],
      "metadata": {
        "id": "-47zHyDCBg92"
      },
      "execution_count": null,
      "outputs": []
    },
    {
      "cell_type": "code",
      "source": [
        "nombre"
      ],
      "metadata": {
        "colab": {
          "base_uri": "https://localhost:8080/",
          "height": 35
        },
        "id": "JEa2Ns85CAZH",
        "outputId": "10a99ea8-10ff-45fd-ab82-7e1dc0b059b2"
      },
      "execution_count": null,
      "outputs": [
        {
          "output_type": "execute_result",
          "data": {
            "text/plain": [
              "'duvan'"
            ],
            "application/vnd.google.colaboratory.intrinsic+json": {
              "type": "string"
            }
          },
          "metadata": {},
          "execution_count": 189
        }
      ]
    },
    {
      "cell_type": "code",
      "source": [
        "datos_personales=[nombre]"
      ],
      "metadata": {
        "id": "OE7B9Pw4CEsu"
      },
      "execution_count": null,
      "outputs": []
    },
    {
      "cell_type": "code",
      "source": [
        "datos_personales"
      ],
      "metadata": {
        "colab": {
          "base_uri": "https://localhost:8080/"
        },
        "id": "HsMQG8wBCy1D",
        "outputId": "e717e619-503a-46d8-cc66-6a06488e6430"
      },
      "execution_count": null,
      "outputs": [
        {
          "output_type": "execute_result",
          "data": {
            "text/plain": [
              "['duvan']"
            ]
          },
          "metadata": {},
          "execution_count": 191
        }
      ]
    },
    {
      "cell_type": "code",
      "source": [
        "datos_personales.append(apellido)"
      ],
      "metadata": {
        "id": "OtAi2B7aC3BN"
      },
      "execution_count": null,
      "outputs": []
    },
    {
      "cell_type": "code",
      "source": [
        "datos_personales.append(edad)\n",
        "datos_personales.append(cedula)\n",
        "datos_personales.append(estado_civil)\n",
        "datos_personales.append(estatura)\n",
        "datos_personales"
      ],
      "metadata": {
        "colab": {
          "base_uri": "https://localhost:8080/"
        },
        "id": "TH2Wqzm3EaqS",
        "outputId": "0c9b622f-b793-4f8b-e911-8c274a2015e7"
      },
      "execution_count": null,
      "outputs": [
        {
          "output_type": "execute_result",
          "data": {
            "text/plain": [
              "['duvan', 'hernandez', 27, 1020822287, 'Casado', 1.8]"
            ]
          },
          "metadata": {},
          "execution_count": 193
        }
      ]
    },
    {
      "cell_type": "code",
      "source": [
        "nombre"
      ],
      "metadata": {
        "colab": {
          "base_uri": "https://localhost:8080/",
          "height": 35
        },
        "id": "KLEfhgL6E3we",
        "outputId": "05a2d9a4-066b-44c9-8af5-99eca51e2d23"
      },
      "execution_count": null,
      "outputs": [
        {
          "output_type": "execute_result",
          "data": {
            "text/plain": [
              "'duvan'"
            ],
            "application/vnd.google.colaboratory.intrinsic+json": {
              "type": "string"
            }
          },
          "metadata": {},
          "execution_count": 194
        }
      ]
    },
    {
      "cell_type": "code",
      "source": [
        "familiares=[]\n",
        "familiares"
      ],
      "metadata": {
        "colab": {
          "base_uri": "https://localhost:8080/"
        },
        "id": "QtaZz4J7FN0q",
        "outputId": "5d56abd2-c76a-4c90-f2cb-f5b887c6ac51"
      },
      "execution_count": null,
      "outputs": [
        {
          "output_type": "execute_result",
          "data": {
            "text/plain": [
              "[]"
            ]
          },
          "metadata": {},
          "execution_count": 195
        }
      ]
    },
    {
      "cell_type": "code",
      "source": [
        "familiares.append(\"juan\")\n",
        "familiares"
      ],
      "metadata": {
        "colab": {
          "base_uri": "https://localhost:8080/"
        },
        "id": "NSLlYZoTFXXt",
        "outputId": "ce92700d-9162-4631-d0b5-27692ceba330"
      },
      "execution_count": null,
      "outputs": [
        {
          "output_type": "execute_result",
          "data": {
            "text/plain": [
              "['juan']"
            ]
          },
          "metadata": {},
          "execution_count": 196
        }
      ]
    },
    {
      "cell_type": "code",
      "source": [
        "familiares.append(\"Nataly\")\n",
        "familiares"
      ],
      "metadata": {
        "colab": {
          "base_uri": "https://localhost:8080/"
        },
        "id": "30nX0l8dFciY",
        "outputId": "e31dc9df-c132-4568-b1e4-0ce8aaac8073"
      },
      "execution_count": null,
      "outputs": [
        {
          "output_type": "execute_result",
          "data": {
            "text/plain": [
              "['juan', 'Nataly']"
            ]
          },
          "metadata": {},
          "execution_count": 197
        }
      ]
    },
    {
      "cell_type": "code",
      "source": [
        "familiares.insert(1,5)"
      ],
      "metadata": {
        "id": "s06CJ-wKFudV"
      },
      "execution_count": null,
      "outputs": []
    },
    {
      "cell_type": "code",
      "source": [
        "familiares.insert(4,31)"
      ],
      "metadata": {
        "id": "3Wv0n_i1HCpl"
      },
      "execution_count": null,
      "outputs": []
    },
    {
      "cell_type": "code",
      "source": [
        "familiares"
      ],
      "metadata": {
        "colab": {
          "base_uri": "https://localhost:8080/"
        },
        "id": "SRCRwwFtH5qD",
        "outputId": "6bc7a5dd-5106-4c67-f031-b223fbed91e2"
      },
      "execution_count": null,
      "outputs": [
        {
          "output_type": "execute_result",
          "data": {
            "text/plain": [
              "['juan', 5, 'Nataly', 31]"
            ]
          },
          "metadata": {},
          "execution_count": 200
        }
      ]
    },
    {
      "cell_type": "code",
      "source": [
        "#Esta funcion me sirve para tomar datos del usuario\n",
        "edad_1=input(\"hola, que te parece si antes de apostar tu casa, vemos si eres mayor de edad, ingresa tu edad: \")"
      ],
      "metadata": {
        "colab": {
          "base_uri": "https://localhost:8080/"
        },
        "id": "ibDAbrEIIMEi",
        "outputId": "b76bd53b-c39d-478b-d15a-6bd7aede2d66"
      },
      "execution_count": null,
      "outputs": [
        {
          "name": "stdout",
          "output_type": "stream",
          "text": [
            "hola, que te parece si antes de apostar tu casa, vemos si eres mayor de edad, ingresa tu edad: 27\n"
          ]
        }
      ]
    },
    {
      "cell_type": "code",
      "source": [
        "Nombre_1=input(\"Ingresa tu nombre\")\n",
        "print(\"la verdad hoy estas terrible\",Nombre_1)"
      ],
      "metadata": {
        "colab": {
          "base_uri": "https://localhost:8080/"
        },
        "id": "Sr4CQKKnKxLu",
        "outputId": "2bf2728e-de9b-4a9f-f388-ff93ce8601f3"
      },
      "execution_count": null,
      "outputs": [
        {
          "output_type": "stream",
          "name": "stdout",
          "text": [
            "Ingresa tu nombreduvan\n",
            "la verdad hoy estas terrible duvan\n"
          ]
        }
      ]
    },
    {
      "cell_type": "code",
      "source": [
        "paises"
      ],
      "metadata": {
        "colab": {
          "base_uri": "https://localhost:8080/"
        },
        "id": "CyytsHybLQGt",
        "outputId": "808cba30-52a4-4246-f5e6-606e87fb7538"
      },
      "execution_count": null,
      "outputs": [
        {
          "output_type": "execute_result",
          "data": {
            "text/plain": [
              "['Venezuela',\n",
              " 'Colombia',\n",
              " 'Ecuador',\n",
              " 'Mexico',\n",
              " 'China',\n",
              " 'Francia',\n",
              " 'Paraguay',\n",
              " 'RUSIA']"
            ]
          },
          "metadata": {},
          "execution_count": 203
        }
      ]
    },
    {
      "cell_type": "code",
      "source": [
        "#para remover datos de la listas utilizo el metodo remove\n",
        "paises.remove(\"RUSIA\")\n",
        "paises"
      ],
      "metadata": {
        "colab": {
          "base_uri": "https://localhost:8080/"
        },
        "id": "lRGX9UOiLe_M",
        "outputId": "33538c09-0fa1-4f8f-9efc-93bbe0e66e89"
      },
      "execution_count": null,
      "outputs": [
        {
          "output_type": "execute_result",
          "data": {
            "text/plain": [
              "['Venezuela', 'Colombia', 'Ecuador', 'Mexico', 'China', 'Francia', 'Paraguay']"
            ]
          },
          "metadata": {},
          "execution_count": 204
        }
      ]
    },
    {
      "cell_type": "code",
      "source": [
        "#Otro metodo para eliminar es el metodo pop, este me permite eliminar por posicion\n",
        "paises.pop(-3)"
      ],
      "metadata": {
        "colab": {
          "base_uri": "https://localhost:8080/",
          "height": 35
        },
        "id": "iM4DLUC8L7hm",
        "outputId": "4d494905-b87f-450a-a4f4-e99c644d49a7"
      },
      "execution_count": null,
      "outputs": [
        {
          "output_type": "execute_result",
          "data": {
            "text/plain": [
              "'China'"
            ],
            "application/vnd.google.colaboratory.intrinsic+json": {
              "type": "string"
            }
          },
          "metadata": {},
          "execution_count": 205
        }
      ]
    },
    {
      "cell_type": "code",
      "source": [
        "paises"
      ],
      "metadata": {
        "colab": {
          "base_uri": "https://localhost:8080/"
        },
        "id": "C-RUMbVzMRB7",
        "outputId": "132b0e7c-60cc-4aa7-8dda-add8481c87d3"
      },
      "execution_count": null,
      "outputs": [
        {
          "output_type": "execute_result",
          "data": {
            "text/plain": [
              "['Venezuela', 'Colombia', 'Ecuador', 'Mexico', 'Francia', 'Paraguay']"
            ]
          },
          "metadata": {},
          "execution_count": 206
        }
      ]
    },
    {
      "cell_type": "code",
      "source": [
        "#para eliminar definitivamente se utiliza del\n",
        "del paises[4]"
      ],
      "metadata": {
        "id": "h8NIycnAMT9y"
      },
      "execution_count": null,
      "outputs": []
    },
    {
      "cell_type": "code",
      "source": [
        "paises"
      ],
      "metadata": {
        "colab": {
          "base_uri": "https://localhost:8080/"
        },
        "id": "Vzxaxz6AMpu-",
        "outputId": "69c16e5f-105b-490c-807e-4863d14729d4"
      },
      "execution_count": null,
      "outputs": [
        {
          "output_type": "execute_result",
          "data": {
            "text/plain": [
              "['Venezuela', 'Colombia', 'Ecuador', 'Mexico', 'Paraguay']"
            ]
          },
          "metadata": {},
          "execution_count": 208
        }
      ]
    },
    {
      "cell_type": "code",
      "source": [
        "#Ordenar las listas, las puedo ordenar de menor a mayor o alfabeticamente con el metodo sort\n",
        "paises.sort()\n",
        "paises"
      ],
      "metadata": {
        "colab": {
          "base_uri": "https://localhost:8080/"
        },
        "id": "RXsZHxfpMusT",
        "outputId": "7ea96360-9687-4e0d-e3c7-b0f641a9c5ae"
      },
      "execution_count": null,
      "outputs": [
        {
          "output_type": "execute_result",
          "data": {
            "text/plain": [
              "['Colombia', 'Ecuador', 'Mexico', 'Paraguay', 'Venezuela']"
            ]
          },
          "metadata": {},
          "execution_count": 209
        }
      ]
    },
    {
      "cell_type": "code",
      "source": [
        "digitos=[2,1,3,5,4,6,8,7,9]\n",
        "digitos.sort()\n",
        "digitos"
      ],
      "metadata": {
        "colab": {
          "base_uri": "https://localhost:8080/"
        },
        "id": "PSuJ3pV9ObBb",
        "outputId": "19c71dee-ffb0-4a10-b2c6-55c618acec9b"
      },
      "execution_count": null,
      "outputs": [
        {
          "output_type": "execute_result",
          "data": {
            "text/plain": [
              "[1, 2, 3, 4, 5, 6, 7, 8, 9]"
            ]
          },
          "metadata": {},
          "execution_count": 210
        }
      ]
    },
    {
      "cell_type": "code",
      "source": [
        "paises.sort(reverse=True)\n",
        "paises"
      ],
      "metadata": {
        "colab": {
          "base_uri": "https://localhost:8080/"
        },
        "id": "jeEMAiRBO0dw",
        "outputId": "9dd55855-af39-4cf9-9298-846b8efcc299"
      },
      "execution_count": null,
      "outputs": [
        {
          "output_type": "execute_result",
          "data": {
            "text/plain": [
              "['Venezuela', 'Paraguay', 'Mexico', 'Ecuador', 'Colombia']"
            ]
          },
          "metadata": {},
          "execution_count": 211
        }
      ]
    },
    {
      "cell_type": "code",
      "source": [
        "# Realizar una copia de una base de datos si  que modifique la incial\n",
        "paises_copia_verdadera=paises.copy()\n",
        "paises_copia_verdadera"
      ],
      "metadata": {
        "colab": {
          "base_uri": "https://localhost:8080/"
        },
        "id": "u0un_eZQPLNm",
        "outputId": "ba6b0430-4116-4d07-c5e3-42adfacfef94"
      },
      "execution_count": null,
      "outputs": [
        {
          "output_type": "execute_result",
          "data": {
            "text/plain": [
              "['Venezuela', 'Paraguay', 'Mexico', 'Ecuador', 'Colombia']"
            ]
          },
          "metadata": {},
          "execution_count": 212
        }
      ]
    },
    {
      "cell_type": "code",
      "source": [
        "paises_copia_verdadera_2=paises[:]\n",
        "paises_copia_verdadera_2"
      ],
      "metadata": {
        "colab": {
          "base_uri": "https://localhost:8080/"
        },
        "id": "604E1PBFPvQ7",
        "outputId": "94f9ca39-51d6-4282-a802-4a05e256dc0b"
      },
      "execution_count": null,
      "outputs": [
        {
          "output_type": "execute_result",
          "data": {
            "text/plain": [
              "['Venezuela', 'Paraguay', 'Mexico', 'Ecuador', 'Colombia']"
            ]
          },
          "metadata": {},
          "execution_count": 213
        }
      ]
    },
    {
      "cell_type": "markdown",
      "source": [
        "**Diccionarios:**son tipos de datos que tienen una llave y un valor, a la combinacion de llave con valor, se le conoce como items, en los diccionarios puedo usar metodos parecidos a los de las listas\n"
      ],
      "metadata": {
        "id": "CXCUEj34QZJ8"
      }
    },
    {
      "cell_type": "code",
      "source": [
        "#casa es la llave, house es el valor y la sumatoria es un item para consolidar un diccionario\n",
        "diccionario_ing_esp={\"casa\":\"house\",\"entender\":\"understand\",\"sediento\":\"red\",\"ocupado\":\"bussy\"}\n",
        "diccionario_ing_esp"
      ],
      "metadata": {
        "colab": {
          "base_uri": "https://localhost:8080/"
        },
        "id": "maLKtK2FQoU5",
        "outputId": "68b7204b-84a3-4fed-b4c1-ffd4ee60e351"
      },
      "execution_count": null,
      "outputs": [
        {
          "output_type": "execute_result",
          "data": {
            "text/plain": [
              "{'casa': 'house',\n",
              " 'entender': 'understand',\n",
              " 'sediento': 'red',\n",
              " 'ocupado': 'bussy'}"
            ]
          },
          "metadata": {},
          "execution_count": 214
        }
      ]
    },
    {
      "cell_type": "code",
      "source": [
        "#para traer todas las llaves de un diccionario, puedo usar el metodo keys\n",
        "diccionario_ing_esp.keys()"
      ],
      "metadata": {
        "colab": {
          "base_uri": "https://localhost:8080/"
        },
        "id": "lBWueDURSID6",
        "outputId": "8879b5c3-b7a4-45cd-cc9a-2462db3a9016"
      },
      "execution_count": null,
      "outputs": [
        {
          "output_type": "execute_result",
          "data": {
            "text/plain": [
              "dict_keys(['casa', 'entender', 'sediento', 'ocupado'])"
            ]
          },
          "metadata": {},
          "execution_count": 215
        }
      ]
    },
    {
      "cell_type": "code",
      "source": [
        "#para tener los valores de los diccionarios\n",
        "diccionario_ing_esp"
      ],
      "metadata": {
        "colab": {
          "base_uri": "https://localhost:8080/"
        },
        "id": "3VI52RY_Sz3s",
        "outputId": "9887f6ce-5296-49f2-e911-92f99b5cdf56"
      },
      "execution_count": null,
      "outputs": [
        {
          "output_type": "execute_result",
          "data": {
            "text/plain": [
              "{'casa': 'house',\n",
              " 'entender': 'understand',\n",
              " 'sediento': 'red',\n",
              " 'ocupado': 'bussy'}"
            ]
          },
          "metadata": {},
          "execution_count": 216
        }
      ]
    },
    {
      "cell_type": "code",
      "source": [
        "diccionario_ing_esp.items()"
      ],
      "metadata": {
        "colab": {
          "base_uri": "https://localhost:8080/"
        },
        "id": "ftXAqxmJS6j7",
        "outputId": "16fbedcc-84d7-480a-a6e8-7e3792475571"
      },
      "execution_count": null,
      "outputs": [
        {
          "output_type": "execute_result",
          "data": {
            "text/plain": [
              "dict_items([('casa', 'house'), ('entender', 'understand'), ('sediento', 'red'), ('ocupado', 'bussy')])"
            ]
          },
          "metadata": {},
          "execution_count": 217
        }
      ]
    },
    {
      "cell_type": "code",
      "source": [
        "type(diccionario_ing_esp)"
      ],
      "metadata": {
        "colab": {
          "base_uri": "https://localhost:8080/"
        },
        "id": "XcOqRQ9LS_su",
        "outputId": "0d60226d-8a3b-4f68-ac46-9bc365ce4d24"
      },
      "execution_count": null,
      "outputs": [
        {
          "output_type": "execute_result",
          "data": {
            "text/plain": [
              "dict"
            ]
          },
          "metadata": {},
          "execution_count": 218
        }
      ]
    },
    {
      "cell_type": "code",
      "source": [
        "#para agregar un nuevo elemento a un diccionario lo hago de la siguiente manera\n",
        "diccionario_ing_esp[\"azul\"]=\"blue\"\n",
        "diccionario_ing_esp"
      ],
      "metadata": {
        "colab": {
          "base_uri": "https://localhost:8080/"
        },
        "id": "sDOjDLOyTNo3",
        "outputId": "65ea28b9-fb90-4969-c1f6-24de355bd890"
      },
      "execution_count": null,
      "outputs": [
        {
          "output_type": "execute_result",
          "data": {
            "text/plain": [
              "{'casa': 'house',\n",
              " 'entender': 'understand',\n",
              " 'sediento': 'red',\n",
              " 'ocupado': 'bussy',\n",
              " 'azul': 'blue'}"
            ]
          },
          "metadata": {},
          "execution_count": 219
        }
      ]
    },
    {
      "cell_type": "code",
      "source": [
        "# para actualizar un dato uso el update\n",
        "diccionario_ing_esp.update({\"negro\":\"black\"})\n",
        "diccionario_ing_esp"
      ],
      "metadata": {
        "colab": {
          "base_uri": "https://localhost:8080/"
        },
        "id": "dOzL2UoWTe35",
        "outputId": "889b158d-ce0b-4c0f-93b8-28a0938e7a58"
      },
      "execution_count": null,
      "outputs": [
        {
          "output_type": "execute_result",
          "data": {
            "text/plain": [
              "{'casa': 'house',\n",
              " 'entender': 'understand',\n",
              " 'sediento': 'red',\n",
              " 'ocupado': 'bussy',\n",
              " 'azul': 'blue',\n",
              " 'negro': 'black'}"
            ]
          },
          "metadata": {},
          "execution_count": 220
        }
      ]
    },
    {
      "cell_type": "code",
      "source": [
        "#Tambien puedo agregar una lista dentro de un diccionario\n",
        "diccionario_ing_esp.update({\"gris\":\"grey\",\"pronombres\":[\"he\",\"she\",\"it\"]})\n",
        "diccionario_ing_esp"
      ],
      "metadata": {
        "colab": {
          "base_uri": "https://localhost:8080/"
        },
        "id": "1r_yjN38T9dS",
        "outputId": "78ba4eb0-f9b3-4d37-f876-1f915dfad5e6"
      },
      "execution_count": null,
      "outputs": [
        {
          "output_type": "execute_result",
          "data": {
            "text/plain": [
              "{'casa': 'house',\n",
              " 'entender': 'understand',\n",
              " 'sediento': 'red',\n",
              " 'ocupado': 'bussy',\n",
              " 'azul': 'blue',\n",
              " 'negro': 'black',\n",
              " 'gris': 'grey',\n",
              " 'pronombres': ['he', 'she', 'it']}"
            ]
          },
          "metadata": {},
          "execution_count": 221
        }
      ]
    },
    {
      "cell_type": "code",
      "source": [
        "diccionario_ing_esp.values()"
      ],
      "metadata": {
        "colab": {
          "base_uri": "https://localhost:8080/"
        },
        "id": "2ldjvN9bUteB",
        "outputId": "d3aecc11-20de-4315-ad58-beb58cb7b88d"
      },
      "execution_count": null,
      "outputs": [
        {
          "output_type": "execute_result",
          "data": {
            "text/plain": [
              "dict_values(['house', 'understand', 'red', 'bussy', 'blue', 'black', 'grey', ['he', 'she', 'it']])"
            ]
          },
          "metadata": {},
          "execution_count": 222
        }
      ]
    },
    {
      "cell_type": "code",
      "source": [
        "# para borrar datos uso el metodo pop\n",
        "diccionario_ing_esp.pop(\"gris\")\n",
        "diccionario_ing_esp"
      ],
      "metadata": {
        "colab": {
          "base_uri": "https://localhost:8080/"
        },
        "id": "Cw4gEZ2DVOgu",
        "outputId": "37aace7e-9857-4af8-9c7e-d3afca8a21bf"
      },
      "execution_count": null,
      "outputs": [
        {
          "output_type": "execute_result",
          "data": {
            "text/plain": [
              "{'casa': 'house',\n",
              " 'entender': 'understand',\n",
              " 'sediento': 'red',\n",
              " 'ocupado': 'bussy',\n",
              " 'azul': 'blue',\n",
              " 'negro': 'black',\n",
              " 'pronombres': ['he', 'she', 'it']}"
            ]
          },
          "metadata": {},
          "execution_count": 223
        }
      ]
    },
    {
      "cell_type": "code",
      "source": [
        "# para eliminar del diccionario podemos usar tambien del\n",
        "del diccionario_ing_esp[\"pronombres\"]\n",
        "diccionario_ing_esp"
      ],
      "metadata": {
        "colab": {
          "base_uri": "https://localhost:8080/"
        },
        "id": "CnndKjEXVmoy",
        "outputId": "a1cb6656-3d27-4e2d-8058-9be5726e195b"
      },
      "execution_count": null,
      "outputs": [
        {
          "output_type": "execute_result",
          "data": {
            "text/plain": [
              "{'casa': 'house',\n",
              " 'entender': 'understand',\n",
              " 'sediento': 'red',\n",
              " 'ocupado': 'bussy',\n",
              " 'azul': 'blue',\n",
              " 'negro': 'black'}"
            ]
          },
          "metadata": {},
          "execution_count": 224
        }
      ]
    },
    {
      "cell_type": "markdown",
      "source": [
        "Operadores logicos, se usan para comprobar condiciones y devolver True o False, dependiendo cual sea el caso\n",
        "Son escenciales para la toma de decisiones y para la creacion de la logica de programación,"
      ],
      "metadata": {
        "id": "A_1HphkHbgAZ"
      }
    },
    {
      "cell_type": "code",
      "source": [
        "# El primero es AND que traduce y\n",
        "print(\"operador AND (que significa y)\")\n",
        "print(\"para que y sea verdadero todas las condiciones deben ser verdaderas\")\n",
        "5>3 and 5<10"
      ],
      "metadata": {
        "colab": {
          "base_uri": "https://localhost:8080/"
        },
        "id": "LBYyw6RhV1X6",
        "outputId": "87fe0b05-399e-40b5-96e2-c81d93b60f27"
      },
      "execution_count": null,
      "outputs": [
        {
          "output_type": "stream",
          "name": "stdout",
          "text": [
            "operador AND (que significa y)\n",
            "para que y sea verdadero todas las condiciones deben ser verdaderas\n"
          ]
        },
        {
          "output_type": "execute_result",
          "data": {
            "text/plain": [
              "True"
            ]
          },
          "metadata": {},
          "execution_count": 225
        }
      ]
    },
    {
      "cell_type": "code",
      "source": [
        "5<3 and 5<10"
      ],
      "metadata": {
        "colab": {
          "base_uri": "https://localhost:8080/"
        },
        "id": "OH5-OgMXcRuq",
        "outputId": "61497a30-91d2-4a66-d177-e7b9a45ad8e8"
      },
      "execution_count": null,
      "outputs": [
        {
          "output_type": "execute_result",
          "data": {
            "text/plain": [
              "False"
            ]
          },
          "metadata": {},
          "execution_count": 226
        }
      ]
    },
    {
      "cell_type": "code",
      "source": [
        "# para usar o se usa la palabra reservada or, en or por lo menos una de las condiciones debe ser verdadera\n",
        "5<3 or 5<10"
      ],
      "metadata": {
        "colab": {
          "base_uri": "https://localhost:8080/"
        },
        "id": "e7JLIZYhcY3o",
        "outputId": "fa270653-a96f-4db5-eb5e-ca2c29e76249"
      },
      "execution_count": null,
      "outputs": [
        {
          "output_type": "execute_result",
          "data": {
            "text/plain": [
              "True"
            ]
          },
          "metadata": {},
          "execution_count": 227
        }
      ]
    },
    {
      "cell_type": "code",
      "source": [
        "5<3 or 5>10"
      ],
      "metadata": {
        "colab": {
          "base_uri": "https://localhost:8080/"
        },
        "id": "JOJMMm9wczuk",
        "outputId": "ada973f5-6218-4791-a897-8f3f4cb0c8e7"
      },
      "execution_count": null,
      "outputs": [
        {
          "output_type": "execute_result",
          "data": {
            "text/plain": [
              "False"
            ]
          },
          "metadata": {},
          "execution_count": 228
        }
      ]
    },
    {
      "cell_type": "code",
      "source": [
        "# Existe otro operador logico que es NOT\n",
        "# not\n",
        "print(\"operador NOT (negacion logica)\")\n",
        "not 5>3"
      ],
      "metadata": {
        "colab": {
          "base_uri": "https://localhost:8080/"
        },
        "id": "36otg6fDc7mg",
        "outputId": "0a0732f1-44e1-4c86-c20a-15da8685eac3"
      },
      "execution_count": null,
      "outputs": [
        {
          "output_type": "stream",
          "name": "stdout",
          "text": [
            "operador NOT (negacion logica)\n"
          ]
        },
        {
          "output_type": "execute_result",
          "data": {
            "text/plain": [
              "False"
            ]
          },
          "metadata": {},
          "execution_count": 229
        }
      ]
    },
    {
      "cell_type": "markdown",
      "source": [
        "Operaciones matematicas, en este momento solo se usaran las mas basicas que son las escenciales para cualquier lenguaje de programacion, suma, resta,multiplicacion,division,potenciacion y modulo"
      ],
      "metadata": {
        "id": "6Z7NxUofdj68"
      }
    },
    {
      "cell_type": "code",
      "source": [
        "#suma, se representa con el simbolo +, y me sirve tambien para concatenar\n",
        "6+5"
      ],
      "metadata": {
        "colab": {
          "base_uri": "https://localhost:8080/"
        },
        "id": "aE05xGyOdf0g",
        "outputId": "e45d949f-f09f-4433-b2e3-23252463d7c7"
      },
      "execution_count": null,
      "outputs": [
        {
          "output_type": "execute_result",
          "data": {
            "text/plain": [
              "11"
            ]
          },
          "metadata": {},
          "execution_count": 230
        }
      ]
    },
    {
      "cell_type": "code",
      "source": [
        "#Resta, se representa con el guion -\n",
        "6-5"
      ],
      "metadata": {
        "colab": {
          "base_uri": "https://localhost:8080/"
        },
        "id": "DisW17JOd5oX",
        "outputId": "98bc5eff-5fb8-4200-b4c7-33dc67ffad2c"
      },
      "execution_count": null,
      "outputs": [
        {
          "output_type": "execute_result",
          "data": {
            "text/plain": [
              "1"
            ]
          },
          "metadata": {},
          "execution_count": 231
        }
      ]
    },
    {
      "cell_type": "code",
      "source": [
        "#multiplicacion, se representa con el asterisco, me sirve para miltiplicar cadenas\n",
        "7*5"
      ],
      "metadata": {
        "colab": {
          "base_uri": "https://localhost:8080/"
        },
        "id": "iB5n6cd_d_Ov",
        "outputId": "e090630a-26b0-46b1-93f9-8d23f07398ae"
      },
      "execution_count": null,
      "outputs": [
        {
          "output_type": "execute_result",
          "data": {
            "text/plain": [
              "35"
            ]
          },
          "metadata": {},
          "execution_count": 232
        }
      ]
    },
    {
      "cell_type": "code",
      "source": [
        "# division, uso el slash  y me da resultados con decimales\n",
        "15/3"
      ],
      "metadata": {
        "colab": {
          "base_uri": "https://localhost:8080/"
        },
        "id": "awWQRz2XeZS-",
        "outputId": "a1843466-fa3b-4dc9-e07b-9bc940af677f"
      },
      "execution_count": null,
      "outputs": [
        {
          "output_type": "execute_result",
          "data": {
            "text/plain": [
              "5.0"
            ]
          },
          "metadata": {},
          "execution_count": 233
        }
      ]
    },
    {
      "cell_type": "code",
      "source": [
        "numero_01=int(input(\"ingrese el numero\"))\n",
        "numero_al_cuadrado=numero_01**2\n",
        "print(\"el cuadrado de tu numero es:\",numero_al_cuadrado)"
      ],
      "metadata": {
        "colab": {
          "base_uri": "https://localhost:8080/"
        },
        "id": "ZBfxUO3djkBo",
        "outputId": "deab19e2-061d-4e25-9082-eed5ea45cb6a"
      },
      "execution_count": null,
      "outputs": [
        {
          "output_type": "stream",
          "name": "stdout",
          "text": [
            "ingrese el numero3\n",
            "el cuadrado de tu numero es: 9\n"
          ]
        }
      ]
    },
    {
      "cell_type": "markdown",
      "source": [
        "**CICLOS Y BUCLES**"
      ],
      "metadata": {
        "id": "RYVehDKtuBt9"
      }
    },
    {
      "cell_type": "markdown",
      "source": [
        "# SON ESTRUCTURAS DE CODIGO QUE PERMITEN INTERAR SOBRE UNA ESTRUCTURA O UN RANGO, EXISTEN DOS TIPOS DE CICLOS MAS USADOS LOS FOR QUE SIGNIFICAN PARA O LOS WHILE QUE SIGNIFICA MIENTRAS QUE"
      ],
      "metadata": {
        "id": "auFViIGVuy3E"
      }
    },
    {
      "cell_type": "code",
      "source": [
        "#DE ESTA MANERA ES LA ESTRUCTURA DE LOS CICLOS FOR\n",
        "#for <variable>int<lista>:\n",
        "# <ejecutable>\n",
        "paises"
      ],
      "metadata": {
        "colab": {
          "base_uri": "https://localhost:8080/"
        },
        "id": "WAhTY1sZtK6i",
        "outputId": "b8e6c356-0f96-4915-efce-3e858697bed6"
      },
      "execution_count": null,
      "outputs": [
        {
          "output_type": "execute_result",
          "data": {
            "text/plain": [
              "['Venezuela', 'Paraguay', 'Mexico', 'Ecuador', 'Colombia']"
            ]
          },
          "metadata": {},
          "execution_count": 235
        }
      ]
    },
    {
      "cell_type": "code",
      "source": [
        "for i in paises:\n",
        " print(i)"
      ],
      "metadata": {
        "colab": {
          "base_uri": "https://localhost:8080/"
        },
        "id": "5iRfDJNHv1EN",
        "outputId": "f50d8fd9-863a-42c7-aa2e-67744fb5860a"
      },
      "execution_count": null,
      "outputs": [
        {
          "output_type": "stream",
          "name": "stdout",
          "text": [
            "Venezuela\n",
            "Paraguay\n",
            "Mexico\n",
            "Ecuador\n",
            "Colombia\n"
          ]
        }
      ]
    },
    {
      "cell_type": "code",
      "source": [
        "for i in paises:\n",
        "  if i==\"Colombia\":\n",
        "    print(i,\"este pais esta infiltrado\")"
      ],
      "metadata": {
        "colab": {
          "base_uri": "https://localhost:8080/"
        },
        "id": "lBidEz_uwXNh",
        "outputId": "b2b7d95c-e69a-4125-ab7d-8632a1badc47"
      },
      "execution_count": null,
      "outputs": [
        {
          "output_type": "stream",
          "name": "stdout",
          "text": [
            "Colombia este pais esta infiltrado\n"
          ]
        }
      ]
    },
    {
      "cell_type": "code",
      "source": [
        "for numero, i in enumerate(paises):\n",
        "  print(numero)\n",
        "  print(i)"
      ],
      "metadata": {
        "colab": {
          "base_uri": "https://localhost:8080/"
        },
        "id": "RPFnMTrcwzAL",
        "outputId": "8b7de5b9-d242-468b-fb34-ea47589cf55c"
      },
      "execution_count": null,
      "outputs": [
        {
          "output_type": "stream",
          "name": "stdout",
          "text": [
            "0\n",
            "Venezuela\n",
            "1\n",
            "Paraguay\n",
            "2\n",
            "Mexico\n",
            "3\n",
            "Ecuador\n",
            "4\n",
            "Colombia\n"
          ]
        }
      ]
    },
    {
      "cell_type": "code",
      "source": [],
      "metadata": {
        "id": "u6iDT72ZxNir"
      },
      "execution_count": null,
      "outputs": []
    },
    {
      "cell_type": "markdown",
      "source": [
        "**FUNCIONES**\n",
        "\n",
        "# FUNCION len nos da la longitud de una regla"
      ],
      "metadata": {
        "id": "F-kx94e6yIca"
      }
    },
    {
      "cell_type": "code",
      "source": [],
      "metadata": {
        "id": "QlbUJAyp3Tbo"
      },
      "execution_count": null,
      "outputs": []
    },
    {
      "cell_type": "code",
      "source": [
        "#funcion max me sirve para mostrar el numero mas grade de una regla\n",
        "max([1,4,6,7,8,4,67,6])"
      ],
      "metadata": {
        "colab": {
          "base_uri": "https://localhost:8080/"
        },
        "id": "6WP962_u3WTX",
        "outputId": "8b420981-56d2-49cb-fe96-fcce6d2270cd"
      },
      "execution_count": null,
      "outputs": [
        {
          "output_type": "execute_result",
          "data": {
            "text/plain": [
              "67"
            ]
          },
          "metadata": {},
          "execution_count": 239
        }
      ]
    },
    {
      "cell_type": "code",
      "source": [
        "# funcion min me sirve para mostrar el vvalor mas bajo de un arreglo\n",
        "min([1,4,6,7,8,4,67,6])"
      ],
      "metadata": {
        "colab": {
          "base_uri": "https://localhost:8080/"
        },
        "id": "Jo_pDaPH30mu",
        "outputId": "69cb6639-40e2-4ba1-a91e-8ba84ad39269"
      },
      "execution_count": null,
      "outputs": [
        {
          "output_type": "execute_result",
          "data": {
            "text/plain": [
              "1"
            ]
          },
          "metadata": {},
          "execution_count": 240
        }
      ]
    },
    {
      "cell_type": "code",
      "source": [
        "# type me sirve para saber el tipo de dato de una variable\n",
        "type(paises)"
      ],
      "metadata": {
        "colab": {
          "base_uri": "https://localhost:8080/"
        },
        "id": "eXa5NBYN3_w9",
        "outputId": "0fcdf3ad-3180-4211-a533-67ac423e88df"
      },
      "execution_count": null,
      "outputs": [
        {
          "output_type": "execute_result",
          "data": {
            "text/plain": [
              "list"
            ]
          },
          "metadata": {},
          "execution_count": 241
        }
      ]
    },
    {
      "cell_type": "code",
      "source": [
        "#round me sirve para redondear decimaless\n",
        "round(3.1416,2)"
      ],
      "metadata": {
        "colab": {
          "base_uri": "https://localhost:8080/"
        },
        "id": "lQnQT3k64JP9",
        "outputId": "b40a1dbb-5944-4c9d-cbf8-4668a7313205"
      },
      "execution_count": null,
      "outputs": [
        {
          "output_type": "execute_result",
          "data": {
            "text/plain": [
              "3.14"
            ]
          },
          "metadata": {},
          "execution_count": 242
        }
      ]
    },
    {
      "cell_type": "code",
      "source": [
        "#range nos sirve para crear una secuencia de numero, tiene 3 argumentos, el inicio, el final y el paso\n",
        "contando=range(0,200,5)"
      ],
      "metadata": {
        "id": "YZwG51Xg4Ub6"
      },
      "execution_count": null,
      "outputs": []
    },
    {
      "cell_type": "code",
      "source": [
        "for i in contando:\n",
        "  print:i"
      ],
      "metadata": {
        "id": "qCpmarEA4c_2"
      },
      "execution_count": null,
      "outputs": []
    },
    {
      "cell_type": "code",
      "source": [
        "#las funciones propias son las que yo creo y me sirven para reutilizar codigo\n",
        "#la palabra reservado para declarar una funcion es def\n",
        "def suma(a,b):\n",
        "  resultado=a+b\n",
        "  return resultado"
      ],
      "metadata": {
        "id": "Ufnl7BM54v15"
      },
      "execution_count": null,
      "outputs": []
    },
    {
      "cell_type": "code",
      "source": [
        "suma(4,34)"
      ],
      "metadata": {
        "colab": {
          "base_uri": "https://localhost:8080/"
        },
        "id": "i9EPwu8e5U0O",
        "outputId": "a6c371dc-7f4f-4c8b-ce31-3b737854decb"
      },
      "execution_count": null,
      "outputs": [
        {
          "output_type": "execute_result",
          "data": {
            "text/plain": [
              "38"
            ]
          },
          "metadata": {},
          "execution_count": 246
        }
      ]
    },
    {
      "cell_type": "code",
      "source": [
        "def precio_pan(a,b):\n",
        "  resultado_valor_pan=(a*b)\n",
        "  return resultado_valor_pan"
      ],
      "metadata": {
        "id": "4Ctxy26O5fHA"
      },
      "execution_count": null,
      "outputs": []
    },
    {
      "cell_type": "code",
      "source": [
        "Cantidad=int(input(\"¿cuantos panes quiere?\"))\n",
        "valor=int(input(\"ingrese el valor por pan\"))\n",
        "total_valor_pan=precio_pan(Cantidad,valor)\n",
        "print(total_valor_pan)"
      ],
      "metadata": {
        "colab": {
          "base_uri": "https://localhost:8080/"
        },
        "id": "uF-v9Mix6I4u",
        "outputId": "72c833ea-d0cc-46fb-b099-a94a8dff281e"
      },
      "execution_count": null,
      "outputs": [
        {
          "output_type": "stream",
          "name": "stdout",
          "text": [
            "¿cuantos panes quiere?1\n",
            "ingrese el valor por pan200\n",
            "200\n"
          ]
        }
      ]
    },
    {
      "cell_type": "markdown",
      "source": [
        "Escribe un programa que calcule el total de una compra de supermercado, el usuario debe ingresar el precio de 2 productos y las cantidades que desee comprar de cada uno, luego el programa debera permitir al usuario:\n",
        "sumar los precios de ambos productos. multiplicar los precios por las cantidades de productos para obtener el costo total, restar un decuento del precio (si el usuario tiene un cupon). Dividir el total entre dos personas por si desean dividir la cuenta\n",
        "\n",
        "\n",
        "primero declarar funciones: 1. multiplicar, 2. sume, 3. resta y division."
      ],
      "metadata": {
        "id": "tJoryMdF9WhU"
      }
    },
    {
      "cell_type": "code",
      "source": [
        "def multiplicar(a,b):\n",
        "  resultado_multiplicar=a*b\n",
        "  return resultado_multiplicar\n",
        "def resta(a,b):\n",
        "  resultado_resta=a-b\n",
        "  return resultado_resta\n",
        "def dividir(a,b):\n",
        "  if b !=0:\n",
        "    return a/b\n",
        "  else:\n",
        "    return print(\"no se puede dividir entre cero\")\n",
        "def sumar(a,b):\n",
        "  resultado_suma=a+b\n",
        "  return resultado_suma\n",
        "  espacio=\" \""
      ],
      "metadata": {
        "id": "CTxxDdqK-SSM"
      },
      "execution_count": null,
      "outputs": []
    },
    {
      "cell_type": "code",
      "source": [
        "print(\"Bienvenido a Almacenes Exito\")\n",
        "precio_producto_1_=float(input(\"Ingrese el precio del producto 1_\"))\n",
        "cantidad_producto_1_=int(input(\"Ingrese la cantidad del producto 1_\"))\n",
        "precio_producto_2_=float(input(\"Ingrese el precio del producto 2_\"))\n",
        "cantidad_producto_2_=int(input(\"Ingrese la cantidad del producto 2_\"))\n",
        "operacion=input('''Bienvenido, ¿como estas?.cuentanos que quieres hacer\n",
        "1. sumar los precios de ambos productos\n",
        "2.calcular el costo total multiplando precio por cantidad\n",
        "3.aplicar un descuento total.\n",
        "4.dividir el total entre dos personas\n",
        "no olvides que solo puedes elegir 1,2,3 y 4''')\n",
        "if operacion==\"1\":\n",
        "  total_precios=sumar(precio_producto_1_,precio_producto_2_)\n",
        "  print(total_precios)\n",
        "if operacion==\"2\":\n",
        "  total_precios2=suma(multiplicar(precio_producto_1_,cantidad_producto_1_), multiplicar(precio_producto_2_,cantidad_producto_2_))\n",
        "  print(total_precios2)\n",
        "if operacion==\"3\":\n",
        "  valor_del_cupon=float(input(\"ingrese el valor del cupon\"))\n",
        "valor_con_descuento=resta(total_precios2,valor_del_cupon)\n",
        "print(valor_con_descuento)\n",
        "if operacion==\"4\":\n",
        "  cuenta_compartida=dividir(valor_con_descuento,2)\n",
        "  print(cuenta_compartida)"
      ],
      "metadata": {
        "colab": {
          "base_uri": "https://localhost:8080/"
        },
        "id": "FcV05vrP9zdb",
        "outputId": "00be3bae-a40e-4799-87f2-e28d330b6edb"
      },
      "execution_count": null,
      "outputs": [
        {
          "output_type": "stream",
          "name": "stdout",
          "text": [
            "Bienvenido a Almacenes Exito\n",
            "Ingrese el precio del producto 1_5000\n",
            "Ingrese la cantidad del producto 1_2\n",
            "Ingrese el precio del producto 2_5000\n",
            "Ingrese la cantidad del producto 2_3\n",
            "Bienvenido, ¿como estas?.cuentanos que quieres hacer\n",
            "1. sumar los precios de ambos productos\n",
            "2.calcular el costo total multiplando precio por cantidad\n",
            "3.aplicar un descuento total.\n",
            "4.dividir el total entre dos personas\n",
            "no olvides que solo puedes elegir 1,2,3 y 44\n",
            "22000.0\n",
            "11000.0\n"
          ]
        }
      ]
    },
    {
      "cell_type": "code",
      "source": [],
      "metadata": {
        "id": "F4BA4jY1DJwA"
      },
      "execution_count": null,
      "outputs": []
    }
  ]
}